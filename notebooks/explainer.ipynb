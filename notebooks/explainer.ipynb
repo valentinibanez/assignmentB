{
 "cells": [
  {
   "cell_type": "markdown",
   "metadata": {},
   "source": [
    "# Explainer notebook for Copenhagen visualizations by Jamie and Valentin\n",
    "\n",
    "Below is the code and some static graphs used for processing the data used in our project for exploring the city of Copenhagen.\n",
    "The code is split into the sections that roughly corresponds to the website.\n",
    "\n",
    "N.B. the code will generate files from the relative path \"src/data/\" so remember to have the whole project folder downloaded to avoid errors."
   ]
  },
  {
   "cell_type": "markdown",
   "metadata": {},
   "source": [
    "## Imports, setup and Introduction\n",
    "We'll import a data set here that is based on peoples age, their income and the district they live in."
   ]
  },
  {
   "cell_type": "code",
   "execution_count": null,
   "metadata": {
    "collapsed": false,
    "scrolled": true
   },
   "outputs": [],
   "source": [
    "import os, collections, csv\n",
    "import pandas as pd, matplotlib as mat, matplotlib.pyplot as plt\n",
    "root_directory = os.path.abspath(os.pardir)\n",
    "df = pd.read_csv(os.path.join(root_directory, \"src\",\"data\",\"kon_alder_bydel_penge.csv\"), encoding=\"utf-8\") # reads csv\n",
    "\n",
    "# Show number of people in each district\n",
    "print df.groupby(['Bydel'])['Personer'].sum()"
   ]
  },
  {
   "cell_type": "markdown",
   "metadata": {},
   "source": [
    "Looks good.\n",
    "We know that there are many tall buildings on Nørrebro and more villas and Brønshøj-Husum\n",
    "\n",
    "Moving on"
   ]
  },
  {
   "cell_type": "markdown",
   "metadata": {},
   "source": [
    "## People in age groups listed by districts\n",
    "Let's try to see the distribution here.\n",
    "A lot of data processing to calculate the ratio between age groups in different districts."
   ]
  },
  {
   "cell_type": "code",
   "execution_count": null,
   "metadata": {
    "collapsed": false
   },
   "outputs": [],
   "source": [
    "%matplotlib inline\n",
    "# -*- coding: utf-8 -*-\n",
    "\n",
    "Districts = df.Bydel.unique()\n",
    "age_categories = df.Aldersgruppe.unique()\n",
    "\n",
    "# Total number of people, and people in an age category\n",
    "total_people = df['Personer'].sum()\n",
    "people_in_age_category = df.groupby(['Aldersgruppe'])['Personer'].sum().astype(float)\n",
    "\n",
    "# Create dictionary with ratios\n",
    "age_category_sum = []\n",
    "for category in age_categories:\n",
    "    age_category_sum.append((category, (people_in_age_category[category] / total_people)))\n",
    "age_category_sum_dict = dict(age_category_sum)\n",
    "\n",
    "\n",
    "# Three subplots sharing both x/y axes\n",
    "f, axarr = plt.subplots(5,2, sharey=True, sharex=True, figsize=(10,10))\n",
    "\n",
    "# Loop through districts and calculate ratio of people living in a district by their age category\n",
    "index = 0\n",
    "jj = 0\n",
    "people_in_districts_as_ratio = {}\n",
    "for district in Districts:\n",
    "    people_in_districts_as_ratio[district] = {}\n",
    "    people_in_district = df[df['Bydel'].isin([district])].groupby(['Aldersgruppe'])['Personer'].sum().astype(float)\n",
    "    total_people_in_district = people_in_district.sum()\n",
    "    for category in age_categories:\n",
    "        try:\n",
    "            people_in_districts_as_ratio[district][category] = (people_in_district[category] / total_people_in_district)\n",
    "        except KeyError:\n",
    "            people_in_districts_as_ratio[district][category] = 0\n",
    "    \n",
    "    d_temp = collections.OrderedDict(sorted(people_in_districts_as_ratio[district].items()))\n",
    "    axarr[index%5, index%2].set_title(district)\n",
    "    h = axarr[index%5, index%2].bar(range(len(d_temp)), d_temp.values(), color=\"blue\")\n",
    "\n",
    "    index += 1\n",
    "    \n",
    "# Fine-tune figure; make subplots close to each other and hide x ticks for\n",
    "# all but bottom plot.\n",
    "f.subplots_adjust(hspace=0.2)\n",
    "plt.sca(axarr[0, 1])\n",
    "plt.xticks(rotation=90)\n",
    "for ax in f.axes:\n",
    "    mat.pyplot.sca(ax)\n",
    "    xticks_pos = [0.65*patch.get_width() + patch.get_xy()[0] for patch in h]\n",
    "    plt.xticks(xticks_pos, age_categories,  ha='right', rotation=45)\n",
    "\n",
    "# Show the plots!\n",
    "plt.show()\n",
    "\n"
   ]
  },
  {
   "cell_type": "markdown",
   "metadata": {},
   "source": [
    "Okay so we can see here that the age group _30-64 years_ is the highest represented (but also the one spanning the most years, except for _65 and above_, unless we take average length of human lives into account).\n",
    "\n",
    "Furthermore the distribution looks pretty consistent on all the city districts. There are only slight variations visually noticeable.\n",
    "E.g. _Nørrebro_ has a lot of people in the _20-29 years_ group compared to _Brønshøj-Husum_ which has a lot fewer. Actually the ratio of _20-29 years_ old is twice as high on _Nørrebro_ than it is in _Brønshøj-Husum_.\n"
   ]
  },
  {
   "cell_type": "code",
   "execution_count": null,
   "metadata": {
    "collapsed": false
   },
   "outputs": [],
   "source": [
    "# We'll just create a file here to plot the ratios on the webpage\n",
    "data = pd.DataFrame(people_in_districts_as_ratio)\n",
    "data.to_csv(\"personeriprocent.csv\", sep=',', encoding=\"utf-8\")"
   ]
  },
  {
   "cell_type": "markdown",
   "metadata": {},
   "source": [
    "## Average income by district\n",
    "We could look at the income by age category as well, but we all probably know how that one will look.\n",
    "\n",
    "Instead let's take a look at the distribution between the different districts.\n",
    "\n",
    "This is much like the previous code. Slight alterations have been made to account for the new category we're looking at"
   ]
  },
  {
   "cell_type": "code",
   "execution_count": null,
   "metadata": {
    "collapsed": false,
    "scrolled": false
   },
   "outputs": [],
   "source": [
    "# Create list of categories\n",
    "income_categories = df.Brutto.unique()\n",
    "\n",
    "# Three subplots sharing both x/y axes\n",
    "f, axarr = plt.subplots(5,2, sharey=True, sharex=True, figsize=(10,10))\n",
    "\n",
    "# Loop through districts and calculate ratio of people living in a district by their age category\n",
    "index = 0\n",
    "jj = 0\n",
    "temp = {}\n",
    "for district in Districts:\n",
    "    temp[district] = {}\n",
    "    income_in_district = df[df['Bydel'].isin([district])].groupby(['Brutto'])['Personer'].sum().astype(float)\n",
    "    total_people_district = income_in_district.sum()\n",
    "    for category in income_categories:\n",
    "        try:\n",
    "            temp[district][category] = income_in_district[category] / total_people_district\n",
    "        except KeyError:\n",
    "            temp[district][category] = 0\n",
    "    \n",
    "    d_temp = collections.OrderedDict(sorted(temp[district].items()))\n",
    "    axarr[index%5, index%2].set_title(district)\n",
    "    h = axarr[index%5, index%2].bar(range(len(d_temp)), d_temp.values(), color=\"blue\")\n",
    "\n",
    "    index += 1\n",
    "\n",
    "# Fine-tune figure; make subplots close to each other and hide x ticks for\n",
    "# all but bottom plot.\n",
    "f.subplots_adjust(hspace=0.2)\n",
    "plt.sca(axarr[0, 1])\n",
    "plt.xticks(rotation=90)\n",
    "for ax in f.axes:\n",
    "    mat.pyplot.sca(ax)\n",
    "    xticks_pos = [0.65*patch.get_width() + patch.get_xy()[0] for patch in h]\n",
    "    plt.xticks(xticks_pos, income_categories,  ha='right', rotation=45)\n",
    "\n",
    "# Show the plots!\n",
    "plt.show()"
   ]
  },
  {
   "cell_type": "markdown",
   "metadata": {},
   "source": [
    "At a first glance it looks normally distributed with a positive skew for most of the districts.\n",
    "There is though a huge difference between the wealthiest and the poorest districts. \n",
    "Let's try to see the same chart with only the 3 highest income intervals"
   ]
  },
  {
   "cell_type": "code",
   "execution_count": null,
   "metadata": {
    "collapsed": false
   },
   "outputs": [],
   "source": [
    "# Create list of categories\n",
    "income_categories = df.Brutto.unique()[-3:]\n",
    "\n",
    "\n",
    "# Three subplots sharing both x/y axes\n",
    "f, axarr = plt.subplots(5,2, sharey=True, sharex=True, figsize=(10,10))\n",
    "\n",
    "# Loop through districts and calculate ratio of people living in a district by their age category\n",
    "index = 0\n",
    "jj = 0\n",
    "temp = {}\n",
    "for district in Districts:\n",
    "    temp[district] = {}\n",
    "    income_in_district = df[((df.Kategori == 8) \n",
    "                   | (df.Kategori == 9)\n",
    "                   | (df.Kategori == 10))\n",
    "                   & df['Bydel'].isin([district])].groupby(['Brutto'])['Personer'].sum().astype(float)\n",
    "    total_people_district = income_in_district.sum()\n",
    "    for category in income_categories:\n",
    "        try:\n",
    "            temp[district][category] = income_in_district[category] / total_people_district\n",
    "        except KeyError:\n",
    "            temp[district][category] = 0\n",
    "    \n",
    "    d_temp = collections.OrderedDict(sorted(temp[district].items()))\n",
    "    axarr[index%5, index%2].set_title(district)\n",
    "    h = axarr[index%5, index%2].bar(range(len(d_temp)), d_temp.values(), color=\"blue\")\n",
    "\n",
    "    index += 1\n",
    "\n",
    "# Fine-tune figure; make subplots close to each other and hide x ticks for\n",
    "# all but bottom plot.\n",
    "f.subplots_adjust(hspace=0.2)\n",
    "plt.sca(axarr[0, 1])\n",
    "plt.xticks(rotation=90)\n",
    "for ax in f.axes:\n",
    "    mat.pyplot.sca(ax)\n",
    "    xticks_pos = [0.65*patch.get_width() + patch.get_xy()[0] for patch in h]\n",
    "    plt.xticks(xticks_pos, income_categories,  ha='right', rotation=45)\n",
    "\n",
    "# Show the plots!\n",
    "plt.show()"
   ]
  },
  {
   "cell_type": "markdown",
   "metadata": {},
   "source": [
    "# Summing up\n",
    "Okay so now let's calculate some descriptive statistics about our population.\n",
    "To do this we must first assume that the data is uniformly distributed within our bucket categories.\n",
    "We use the following formula to calculate the median\n",
    "$$ L_m + \\left [ \\frac { \\frac{N}{2} - F_{m-1} }{f_m} \\right ] \\cdot c $$\n",
    "\n",
    "And to calculate the mean $\\mu$ we simply calculate the mean $\\mu_2$ of an interval and use that calculate $\\mu$"
   ]
  },
  {
   "cell_type": "code",
   "execution_count": null,
   "metadata": {
    "collapsed": false
   },
   "outputs": [],
   "source": [
    "people_sum_age = df.groupby(['Aldersgruppe'])['Personer'].sum().astype(float)\n",
    "people_sum_total = df['Personer'].sum()\n",
    "age_category_mean = [\n",
    "    (15+19)/2.0,\n",
    "    (20+29)/2.0,\n",
    "    (30+64)/2.0,\n",
    "    (65+80)/2.0\n",
    "]\n",
    "mean_list = [y*x for x,y in zip(age_category_mean, people_sum_age.values)]\n",
    "\n",
    "mu = (sum(mean_list))/(people_sum_total)\n",
    "print 'mean for Copenhagen: {0}'.format(mu)\n",
    "\n",
    "people_sum_district = df.groupby(['Bydel'])['Personer'].sum()\n",
    "people_age_sum_district = df.groupby(['Bydel', 'Aldersgruppe'])['Personer'].sum()\n",
    "\n",
    "# calculate mean again"
   ]
  },
  {
   "cell_type": "markdown",
   "metadata": {},
   "source": [
    "# Decisions, decisions, decisions\n",
    "Time to look at some decision trees"
   ]
  },
  {
   "cell_type": "code",
   "execution_count": null,
   "metadata": {
    "collapsed": false
   },
   "outputs": [],
   "source": [
    "from sklearn.feature_extraction import DictVectorizer as DV\n",
    "from sklearn import tree\n",
    "import numpy as np\n",
    "from sklearn.cross_validation import train_test_split\n",
    "from sklearn.externals.six import StringIO\n",
    "import pydot\n",
    "from IPython.display import Image\n",
    "\n",
    "df = pd.read_csv(os.path.join(root_directory, \"src\",\"data\",\"kon_alder_bydel_penge.csv\")) # reads csv\n",
    "target = df['Bydel']\n",
    "vectorizer = DV( sparse = False )\n",
    "train_dict = df[['Kategori', 'Aldersgruppe']].T.to_dict().values()\n",
    "X = vectorizer.fit_transform(train_dict)\n",
    "X_train, X_test, target_train, target_test = train_test_split( X, target, test_size=0.1)\n",
    "\n",
    "clf = tree.DecisionTreeClassifier(max_depth=3)\n",
    "clf = clf.fit(X_train, target_train)\n",
    "\n",
    "dot_data = StringIO()\n",
    "tree.export_graphviz(clf, out_file=dot_data,  \n",
    "                         feature_names=vectorizer.get_feature_names(),  \n",
    "                         class_names=target.unique(),  \n",
    "                         filled=True, rounded=True,\n",
    "                         special_characters=True)\n",
    "graph = pydot.graph_from_dot_data(dot_data.getvalue())\n",
    "Image(graph.create_png())"
   ]
  },
  {
   "cell_type": "code",
   "execution_count": null,
   "metadata": {
    "collapsed": true
   },
   "outputs": [],
   "source": []
  }
 ],
 "metadata": {
  "kernelspec": {
   "display_name": "Python 2",
   "language": "python",
   "name": "python2"
  },
  "language_info": {
   "codemirror_mode": {
    "name": "ipython",
    "version": 2
   },
   "file_extension": ".py",
   "mimetype": "text/x-python",
   "name": "python",
   "nbconvert_exporter": "python",
   "pygments_lexer": "ipython2",
   "version": "2.7.11"
  }
 },
 "nbformat": 4,
 "nbformat_minor": 0
}
