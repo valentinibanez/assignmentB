{
 "cells": [
  {
   "cell_type": "code",
   "execution_count": 1,
   "metadata": {
    "collapsed": true
   },
   "outputs": [],
   "source": [
    "from csv import writer\n",
    "import os\n",
    "import pandas as pd, matplotlib.pyplot as plt\n",
    "import matplotlib as mat\n",
    "from csv import reader\n",
    "\n",
    "root_directory = os.path.abspath(os.pardir)"
   ]
  },
  {
   "cell_type": "code",
   "execution_count": 2,
   "metadata": {
    "collapsed": false
   },
   "outputs": [],
   "source": [
    "df = pd.read_csv(os.path.join(root_directory, \"src\",\"data\",\"kon_alder_bydel_penge.csv\"), encoding=\"utf-8\") # reads csv\n",
    "\n",
    "persons_by_district_and_gender = df.groupby(['Bydel', u'Køn'])['Personer'].sum().sort_values()\n",
    "persons_by_district_and_gender.to_csv(\"personer.csv\", sep=',', encoding=\"utf-8\")"
   ]
  },
  {
   "cell_type": "code",
   "execution_count": 3,
   "metadata": {
    "collapsed": false
   },
   "outputs": [
    {
     "name": "stdout",
     "output_type": "stream",
     "text": [
      "        -49.999 kr.  100.000-149.999 kr.  150.000-199.999 kr.  \\\n",
      "count     11.000000            11.000000            11.000000   \n",
      "mean   15986.181818         21956.727273         25996.727273   \n",
      "std    23935.676593         32987.475736         38983.153964   \n",
      "min     5604.000000          6818.000000          8840.000000   \n",
      "25%     7696.000000          9539.000000         12346.000000   \n",
      "50%     8480.000000         12604.000000         14536.000000   \n",
      "75%    10990.000000         13959.000000         16637.000000   \n",
      "max    87924.000000        120762.000000        142982.000000   \n",
      "\n",
      "       200.000-299.999 kr.  300.000-399.999 kr.  400.000-499.999 kr.  \\\n",
      "count            11.000000            11.000000            11.000000   \n",
      "mean          28359.272727         28503.636364         18289.090909   \n",
      "std           42438.553503         42659.370655         27423.248055   \n",
      "min           10962.000000         10476.000000          6392.000000   \n",
      "25%           13480.000000         13287.000000          8379.000000   \n",
      "50%           16462.000000         16534.000000          9990.000000   \n",
      "75%           17963.000000         19058.000000         12035.000000   \n",
      "max          155976.000000        156770.000000        100590.000000   \n",
      "\n",
      "       50.000-99.999 kr.  500.000-599.999 kr.  600.000-699.999 kr.  \\\n",
      "count          11.000000            11.000000            11.000000   \n",
      "mean        13317.090909          9006.181818          4334.909091   \n",
      "std         20031.676023         13525.972511          6521.182676   \n",
      "min          3868.000000          2566.000000          1174.000000   \n",
      "25%          5942.000000          4196.000000          1911.000000   \n",
      "50%          7504.000000          4972.000000          2072.000000   \n",
      "75%          8401.000000          6139.000000          3199.000000   \n",
      "max         73244.000000         49534.000000         23842.000000   \n",
      "\n",
      "       700.000 kr. og derover   Total Result  \n",
      "count                11.00000      11.000000  \n",
      "mean               6356.00000  172105.818182  \n",
      "std                9666.21204  257670.366775  \n",
      "min                1386.00000   64988.000000  \n",
      "25%                2409.00000   85422.000000  \n",
      "50%                2678.00000   91726.000000  \n",
      "75%                5552.00000  114350.000000  \n",
      "max               34958.00000  946582.000000  \n"
     ]
    }
   ],
   "source": [
    "df = pd.read_csv(os.path.join(\"src\",\"data\",\"personer_indkomst_bydel.csv\"), encoding=\"utf-8\") # reads csv\n",
    "print df.describe()"
   ]
  },
  {
   "cell_type": "code",
   "execution_count": null,
   "metadata": {
    "collapsed": true
   },
   "outputs": [],
   "source": []
  }
 ],
 "metadata": {
  "kernelspec": {
   "display_name": "Python 2",
   "language": "python",
   "name": "python2"
  },
  "language_info": {
   "codemirror_mode": {
    "name": "ipython",
    "version": 2
   },
   "file_extension": ".py",
   "mimetype": "text/x-python",
   "name": "python",
   "nbconvert_exporter": "python",
   "pygments_lexer": "ipython2",
   "version": "2.7.11"
  }
 },
 "nbformat": 4,
 "nbformat_minor": 0
}
